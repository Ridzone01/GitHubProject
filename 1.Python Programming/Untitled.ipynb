{
 "cells": [
  {
   "cell_type": "markdown",
   "id": "c244b51f-3306-4e6b-b5d7-b646e459c469",
   "metadata": {},
   "source": [
    "# My First Hello World In Python"
   ]
  },
  {
   "cell_type": "code",
   "execution_count": 1,
   "id": "9242809e-b799-4197-b569-a0f72f3cd97a",
   "metadata": {},
   "outputs": [
    {
     "name": "stdout",
     "output_type": "stream",
     "text": [
      "hello world!\n"
     ]
    }
   ],
   "source": [
    "print(\"hello world!\")"
   ]
  },
  {
   "cell_type": "markdown",
   "id": "e1ed4fac-33f9-4a6c-a64c-87b020474fce",
   "metadata": {},
   "source": [
    "# Indentation"
   ]
  },
  {
   "cell_type": "code",
   "execution_count": 9,
   "id": "8eba54a6-9688-4ca1-9fd7-b856834b4b0a",
   "metadata": {},
   "outputs": [
    {
     "name": "stdout",
     "output_type": "stream",
     "text": [
      "YES!\n"
     ]
    }
   ],
   "source": [
    "x = 5\n",
    "if x < 10:\n",
    "    print(\"YES!\")\n",
    "else:\n",
    "    print(\"NO!\")"
   ]
  },
  {
   "cell_type": "code",
   "execution_count": 10,
   "id": "253b397a-5ce0-4137-b26b-666f528909c9",
   "metadata": {},
   "outputs": [],
   "source": [
    "#single line comment"
   ]
  },
  {
   "cell_type": "code",
   "execution_count": 15,
   "id": "f403f025-9a18-4258-b02d-36ca779b648c",
   "metadata": {},
   "outputs": [
    {
     "name": "stdout",
     "output_type": "stream",
     "text": [
      "my comment\n"
     ]
    }
   ],
   "source": [
    "\"\"\"\n",
    "multiple\n",
    "line\n",
    "comment\n",
    "\"\"\"\n",
    "print(\"my comment\")"
   ]
  },
  {
   "cell_type": "code",
   "execution_count": 18,
   "id": "e68bc95b-d880-476d-b616-c6c73ad1a097",
   "metadata": {},
   "outputs": [
    {
     "name": "stdout",
     "output_type": "stream",
     "text": [
      "Age :  25\n",
      "Temp :  25.5  celcius\n",
      "Greet :  hello\n"
     ]
    }
   ],
   "source": [
    "#integer\n",
    "age = 25\n",
    "\n",
    "#float\n",
    "temperature = 25.5\n",
    "\n",
    "#string\n",
    "greet = \"hello\"\n",
    "\n",
    "print(\"Age : \",age)\n",
    "print(\"Temp : \",temperature,\" celcius\")\n",
    "print(\"Greet : \",greet)"
   ]
  },
  {
   "cell_type": "markdown",
   "id": "8c52f9be-7f1e-4231-aa66-191635ab5327",
   "metadata": {},
   "source": [
    "# Data Type"
   ]
  },
  {
   "cell_type": "code",
   "execution_count": 19,
   "id": "63962df7-2f87-425f-bacb-4db0efe02466",
   "metadata": {},
   "outputs": [
    {
     "name": "stdout",
     "output_type": "stream",
     "text": [
      "<class 'int'>\n",
      "<class 'float'>\n",
      "<class 'str'>\n"
     ]
    }
   ],
   "source": [
    "print(type(age))\n",
    "print(type(temperature))\n",
    "print(type(greet))"
   ]
  },
  {
   "cell_type": "markdown",
   "id": "7dbbe63b-76c3-4457-8840-5df3506cf55d",
   "metadata": {},
   "source": [
    "# Prompting"
   ]
  },
  {
   "cell_type": "code",
   "execution_count": 21,
   "id": "9997ef38-87c2-4c4a-a451-9ed8a49ff085",
   "metadata": {},
   "outputs": [
    {
     "name": "stdin",
     "output_type": "stream",
     "text": [
      "Masukkan Umur Anda:  25\n",
      "Masukkan Tinggi Anda:  165\n",
      "Masukkan Berat Anda:  55\n"
     ]
    },
    {
     "name": "stdout",
     "output_type": "stream",
     "text": [
      "Umur anda 25 tahun, tinggi anda 165 CM, dan berat anda 55 KG.\n"
     ]
    }
   ],
   "source": [
    "age = input(\"Masukkan Umur Anda: \")\n",
    "height = input(\"Masukkan Tinggi Anda: \")\n",
    "weight = input(\"Masukkan Berat Anda: \")\n",
    "\n",
    "print(f\"Umur anda {age} tahun, tinggi anda {height} CM, dan berat anda {weight} KG.\")"
   ]
  },
  {
   "cell_type": "markdown",
   "id": "6af2b652-3c62-4aab-88d8-51091b437069",
   "metadata": {},
   "source": [
    "# Lists"
   ]
  },
  {
   "cell_type": "code",
   "execution_count": 27,
   "id": "7ac51fff-814c-428a-bf46-71a8b731797d",
   "metadata": {},
   "outputs": [
    {
     "name": "stdout",
     "output_type": "stream",
     "text": [
      "cherry\n",
      "durian\n"
     ]
    }
   ],
   "source": [
    "fruits = [\"apple\", \"banana\", \"cherry\"]\n",
    "print(fruits[2])\n",
    "fruits[1] = \"durian\"\n",
    "print(fruits[1])"
   ]
  },
  {
   "cell_type": "markdown",
   "id": "0602ab9e-eabd-4b2a-8066-46842cb4664d",
   "metadata": {},
   "source": [
    "# Tuples"
   ]
  },
  {
   "cell_type": "code",
   "execution_count": 32,
   "id": "63b27ded-405d-4f39-84d8-44c5d109864b",
   "metadata": {},
   "outputs": [
    {
     "name": "stdout",
     "output_type": "stream",
     "text": [
      "20 10\n"
     ]
    }
   ],
   "source": [
    "coordinates = (10, 20)\n",
    "print(coordinates[1], coordinates[0])"
   ]
  },
  {
   "cell_type": "markdown",
   "id": "de75d7ef-cea1-463f-92aa-43ea313366f5",
   "metadata": {},
   "source": [
    "# Dictionaries"
   ]
  },
  {
   "cell_type": "code",
   "execution_count": 33,
   "id": "30e7d7bd-9a78-4595-a97f-56e2faaf0643",
   "metadata": {},
   "outputs": [
    {
     "name": "stdout",
     "output_type": "stream",
     "text": [
      "Iwan\n"
     ]
    }
   ],
   "source": [
    "person = {\"name\": \"Iwan\", \"age\": \"25\"}\n",
    "print(person[\"name\"])"
   ]
  },
  {
   "cell_type": "markdown",
   "id": "0a0293a6-dca9-47bd-8a7f-1c2fe814cf96",
   "metadata": {},
   "source": [
    "# For Loop"
   ]
  },
  {
   "cell_type": "code",
   "execution_count": 36,
   "id": "7b152981-4584-42f3-afbe-e8a708de418c",
   "metadata": {},
   "outputs": [
    {
     "name": "stdout",
     "output_type": "stream",
     "text": [
      "apple\n",
      "durian\n",
      "cherry\n"
     ]
    }
   ],
   "source": [
    "for x in fruits:\n",
    "    print(x)"
   ]
  },
  {
   "cell_type": "markdown",
   "id": "1671b4da-e934-4850-ae4b-d450c6fbbf11",
   "metadata": {},
   "source": [
    "# Functions"
   ]
  },
  {
   "cell_type": "code",
   "execution_count": 37,
   "id": "cb1d9ff0-4c0f-45ee-beb0-1c370c9e8675",
   "metadata": {},
   "outputs": [
    {
     "name": "stdout",
     "output_type": "stream",
     "text": [
      "15\n",
      "25\n",
      "45\n"
     ]
    }
   ],
   "source": [
    "def multiply(x):\n",
    "    return 5*x\n",
    "print(multiply(3))\n",
    "print(multiply(5))\n",
    "print(multiply(9))"
   ]
  },
  {
   "cell_type": "code",
   "execution_count": null,
   "id": "7fad5648-88c2-45ed-a8ba-0697edb08b8f",
   "metadata": {},
   "outputs": [],
   "source": []
  }
 ],
 "metadata": {
  "kernelspec": {
   "display_name": "Python 3 (ipykernel)",
   "language": "python",
   "name": "python3"
  },
  "language_info": {
   "codemirror_mode": {
    "name": "ipython",
    "version": 3
   },
   "file_extension": ".py",
   "mimetype": "text/x-python",
   "name": "python",
   "nbconvert_exporter": "python",
   "pygments_lexer": "ipython3",
   "version": "3.10.12"
  }
 },
 "nbformat": 4,
 "nbformat_minor": 5
}
